{
 "cells": [
  {
   "cell_type": "markdown",
   "metadata": {},
   "source": [
    "### Will a Customer Accept the Coupon?\n",
    "\n",
    "**Context**\n",
    "\n",
    "Imagine driving through town and a coupon is delivered to your cell phone for a restaraunt near where you are driving. Would you accept that coupon and take a short detour to the restaraunt? Would you accept the coupon but use it on a sunbsequent trip? Would you ignore the coupon entirely? What if the coupon was for a bar instead of a restaraunt? What about a coffee house? Would you accept a bar coupon with a minor passenger in the car? What about if it was just you and your partner in the car? Would weather impact the rate of acceptance? What about the time of day?\n",
    "\n",
    "Obviously, proximity to the business is a factor on whether the coupon is delivered to the driver or not, but what are the factors that determine whether a driver accepts the coupon once it is delivered to them? How would you determine whether a driver is likely to accept a coupon?\n",
    "\n",
    "**Overview**\n",
    "\n",
    "The goal of this project is to use what you know about visualizations and probability distributions to distinguish between customers who accepted a driving coupon versus those that did not.\n",
    "\n",
    "**Data**\n",
    "\n",
    "This data comes to us from the UCI Machine Learning repository and was collected via a survey on Amazon Mechanical Turk. The survey describes different driving scenarios including the destination, current time, weather, passenger, etc., and then ask the person whether he will accept the coupon if he is the driver. Answers that the user will drive there ‘right away’ or ‘later before the coupon expires’ are labeled as ‘Y = 1’ and answers ‘no, I do not want the coupon’ are labeled as ‘Y = 0’.  There are five different types of coupons -- less expensive restaurants (under \\\\$20), coffee houses, carry out & take away, bar, and more expensive restaurants (\\\\$20 - \\\\$50). "
   ]
  },
  {
   "cell_type": "markdown",
   "metadata": {},
   "source": [
    "**Deliverables**\n",
    "\n",
    "Your final product should be a brief report that highlights the differences between customers who did and did not accept the coupons.  To explore the data you will utilize your knowledge of plotting, statistical summaries, and visualization using Python. You will publish your findings in a public facing github repository as your first portfolio piece. \n",
    "\n",
    "\n",
    "\n"
   ]
  },
  {
   "cell_type": "markdown",
   "metadata": {},
   "source": [
    "### Data Description\n",
    "Keep in mind that these values mentioned below are average values.\n",
    "\n",
    "The attributes of this data set include:\n",
    "1. User attributes\n",
    "    -  Gender: male, female\n",
    "    -  Age: below 21, 21 to 25, 26 to 30, etc.\n",
    "    -  Marital Status: single, married partner, unmarried partner, or widowed\n",
    "    -  Number of children: 0, 1, or more than 1\n",
    "    -  Education: high school, bachelors degree, associates degree, or graduate degree\n",
    "    -  Occupation: architecture & engineering, business & financial, etc.\n",
    "    -  Annual income: less than \\\\$12500, \\\\$12500 - \\\\$24999, \\\\$25000 - \\\\$37499, etc.\n",
    "    -  Number of times that he/she goes to a bar: 0, less than 1, 1 to 3, 4 to 8 or greater than 8\n",
    "    -  Number of times that he/she buys takeaway food: 0, less than 1, 1 to 3, 4 to 8 or greater\n",
    "    than 8\n",
    "    -  Number of times that he/she goes to a coffee house: 0, less than 1, 1 to 3, 4 to 8 or\n",
    "    greater than 8\n",
    "    -  Number of times that he/she eats at a restaurant with average expense less than \\\\$20 per\n",
    "    person: 0, less than 1, 1 to 3, 4 to 8 or greater than 8\n",
    "    -  Number of times that he/she goes to a bar: 0, less than 1, 1 to 3, 4 to 8 or greater than 8\n",
    "    \n",
    "\n",
    "2. Contextual attributes\n",
    "    - Driving destination: home, work, or no urgent destination\n",
    "    - Location of user, coupon and destination: we provide a map to show the geographical\n",
    "    location of the user, destination, and the venue, and we mark the distance between each\n",
    "    two places with time of driving. The user can see whether the venue is in the same\n",
    "    direction as the destination.\n",
    "    - Weather: sunny, rainy, or snowy\n",
    "    - Temperature: 30F, 55F, or 80F\n",
    "    - Time: 10AM, 2PM, or 6PM\n",
    "    - Passenger: alone, partner, kid(s), or friend(s)\n",
    "\n",
    "\n",
    "3. Coupon attributes\n",
    "    - time before it expires: 2 hours or one day"
   ]
  },
  {
   "cell_type": "code",
   "metadata": {
    "ExecuteTime": {
     "end_time": "2024-05-07T23:08:32.692182Z",
     "start_time": "2024-05-07T23:08:32.690499Z"
    }
   },
   "source": [
    "import matplotlib.pyplot as plt\n",
    "import seaborn as sns\n",
    "import pandas as pd\n",
    "import numpy as np"
   ],
   "outputs": [],
   "execution_count": 106
  },
  {
   "cell_type": "markdown",
   "metadata": {},
   "source": [
    "### Problems\n",
    "\n",
    "Use the prompts below to get started with your data analysis.  \n",
    "\n",
    "1. Read in the `coupons.csv` file.\n",
    "\n",
    "\n"
   ]
  },
  {
   "cell_type": "code",
   "metadata": {
    "ExecuteTime": {
     "end_time": "2024-05-07T23:08:32.832575Z",
     "start_time": "2024-05-07T23:08:32.812449Z"
    }
   },
   "source": [
    "data = pd.read_csv('data/coupons.csv')"
   ],
   "outputs": [],
   "execution_count": 107
  },
  {
   "cell_type": "code",
   "metadata": {
    "ExecuteTime": {
     "end_time": "2024-05-07T23:08:32.838790Z",
     "start_time": "2024-05-07T23:08:32.833560Z"
    }
   },
   "source": [
    "data.head()"
   ],
   "outputs": [
    {
     "data": {
      "text/plain": [
       "       destination  passanger weather  temperature  time  \\\n",
       "0  No Urgent Place      Alone   Sunny           55   2PM   \n",
       "1  No Urgent Place  Friend(s)   Sunny           80  10AM   \n",
       "2  No Urgent Place  Friend(s)   Sunny           80  10AM   \n",
       "3  No Urgent Place  Friend(s)   Sunny           80   2PM   \n",
       "4  No Urgent Place  Friend(s)   Sunny           80   2PM   \n",
       "\n",
       "                  coupon expiration  gender age      maritalStatus  ...  \\\n",
       "0        Restaurant(<20)         1d  Female  21  Unmarried partner  ...   \n",
       "1           Coffee House         2h  Female  21  Unmarried partner  ...   \n",
       "2  Carry out & Take away         2h  Female  21  Unmarried partner  ...   \n",
       "3           Coffee House         2h  Female  21  Unmarried partner  ...   \n",
       "4           Coffee House         1d  Female  21  Unmarried partner  ...   \n",
       "\n",
       "   CoffeeHouse CarryAway RestaurantLessThan20 Restaurant20To50  \\\n",
       "0        never       NaN                  4~8              1~3   \n",
       "1        never       NaN                  4~8              1~3   \n",
       "2        never       NaN                  4~8              1~3   \n",
       "3        never       NaN                  4~8              1~3   \n",
       "4        never       NaN                  4~8              1~3   \n",
       "\n",
       "  toCoupon_GEQ5min toCoupon_GEQ15min toCoupon_GEQ25min direction_same  \\\n",
       "0                1                 0                 0              0   \n",
       "1                1                 0                 0              0   \n",
       "2                1                 1                 0              0   \n",
       "3                1                 1                 0              0   \n",
       "4                1                 1                 0              0   \n",
       "\n",
       "  direction_opp  Y  \n",
       "0             1  1  \n",
       "1             1  0  \n",
       "2             1  1  \n",
       "3             1  0  \n",
       "4             1  0  \n",
       "\n",
       "[5 rows x 26 columns]"
      ],
      "text/html": [
       "<div>\n",
       "<style scoped>\n",
       "    .dataframe tbody tr th:only-of-type {\n",
       "        vertical-align: middle;\n",
       "    }\n",
       "\n",
       "    .dataframe tbody tr th {\n",
       "        vertical-align: top;\n",
       "    }\n",
       "\n",
       "    .dataframe thead th {\n",
       "        text-align: right;\n",
       "    }\n",
       "</style>\n",
       "<table border=\"1\" class=\"dataframe\">\n",
       "  <thead>\n",
       "    <tr style=\"text-align: right;\">\n",
       "      <th></th>\n",
       "      <th>destination</th>\n",
       "      <th>passanger</th>\n",
       "      <th>weather</th>\n",
       "      <th>temperature</th>\n",
       "      <th>time</th>\n",
       "      <th>coupon</th>\n",
       "      <th>expiration</th>\n",
       "      <th>gender</th>\n",
       "      <th>age</th>\n",
       "      <th>maritalStatus</th>\n",
       "      <th>...</th>\n",
       "      <th>CoffeeHouse</th>\n",
       "      <th>CarryAway</th>\n",
       "      <th>RestaurantLessThan20</th>\n",
       "      <th>Restaurant20To50</th>\n",
       "      <th>toCoupon_GEQ5min</th>\n",
       "      <th>toCoupon_GEQ15min</th>\n",
       "      <th>toCoupon_GEQ25min</th>\n",
       "      <th>direction_same</th>\n",
       "      <th>direction_opp</th>\n",
       "      <th>Y</th>\n",
       "    </tr>\n",
       "  </thead>\n",
       "  <tbody>\n",
       "    <tr>\n",
       "      <th>0</th>\n",
       "      <td>No Urgent Place</td>\n",
       "      <td>Alone</td>\n",
       "      <td>Sunny</td>\n",
       "      <td>55</td>\n",
       "      <td>2PM</td>\n",
       "      <td>Restaurant(&lt;20)</td>\n",
       "      <td>1d</td>\n",
       "      <td>Female</td>\n",
       "      <td>21</td>\n",
       "      <td>Unmarried partner</td>\n",
       "      <td>...</td>\n",
       "      <td>never</td>\n",
       "      <td>NaN</td>\n",
       "      <td>4~8</td>\n",
       "      <td>1~3</td>\n",
       "      <td>1</td>\n",
       "      <td>0</td>\n",
       "      <td>0</td>\n",
       "      <td>0</td>\n",
       "      <td>1</td>\n",
       "      <td>1</td>\n",
       "    </tr>\n",
       "    <tr>\n",
       "      <th>1</th>\n",
       "      <td>No Urgent Place</td>\n",
       "      <td>Friend(s)</td>\n",
       "      <td>Sunny</td>\n",
       "      <td>80</td>\n",
       "      <td>10AM</td>\n",
       "      <td>Coffee House</td>\n",
       "      <td>2h</td>\n",
       "      <td>Female</td>\n",
       "      <td>21</td>\n",
       "      <td>Unmarried partner</td>\n",
       "      <td>...</td>\n",
       "      <td>never</td>\n",
       "      <td>NaN</td>\n",
       "      <td>4~8</td>\n",
       "      <td>1~3</td>\n",
       "      <td>1</td>\n",
       "      <td>0</td>\n",
       "      <td>0</td>\n",
       "      <td>0</td>\n",
       "      <td>1</td>\n",
       "      <td>0</td>\n",
       "    </tr>\n",
       "    <tr>\n",
       "      <th>2</th>\n",
       "      <td>No Urgent Place</td>\n",
       "      <td>Friend(s)</td>\n",
       "      <td>Sunny</td>\n",
       "      <td>80</td>\n",
       "      <td>10AM</td>\n",
       "      <td>Carry out &amp; Take away</td>\n",
       "      <td>2h</td>\n",
       "      <td>Female</td>\n",
       "      <td>21</td>\n",
       "      <td>Unmarried partner</td>\n",
       "      <td>...</td>\n",
       "      <td>never</td>\n",
       "      <td>NaN</td>\n",
       "      <td>4~8</td>\n",
       "      <td>1~3</td>\n",
       "      <td>1</td>\n",
       "      <td>1</td>\n",
       "      <td>0</td>\n",
       "      <td>0</td>\n",
       "      <td>1</td>\n",
       "      <td>1</td>\n",
       "    </tr>\n",
       "    <tr>\n",
       "      <th>3</th>\n",
       "      <td>No Urgent Place</td>\n",
       "      <td>Friend(s)</td>\n",
       "      <td>Sunny</td>\n",
       "      <td>80</td>\n",
       "      <td>2PM</td>\n",
       "      <td>Coffee House</td>\n",
       "      <td>2h</td>\n",
       "      <td>Female</td>\n",
       "      <td>21</td>\n",
       "      <td>Unmarried partner</td>\n",
       "      <td>...</td>\n",
       "      <td>never</td>\n",
       "      <td>NaN</td>\n",
       "      <td>4~8</td>\n",
       "      <td>1~3</td>\n",
       "      <td>1</td>\n",
       "      <td>1</td>\n",
       "      <td>0</td>\n",
       "      <td>0</td>\n",
       "      <td>1</td>\n",
       "      <td>0</td>\n",
       "    </tr>\n",
       "    <tr>\n",
       "      <th>4</th>\n",
       "      <td>No Urgent Place</td>\n",
       "      <td>Friend(s)</td>\n",
       "      <td>Sunny</td>\n",
       "      <td>80</td>\n",
       "      <td>2PM</td>\n",
       "      <td>Coffee House</td>\n",
       "      <td>1d</td>\n",
       "      <td>Female</td>\n",
       "      <td>21</td>\n",
       "      <td>Unmarried partner</td>\n",
       "      <td>...</td>\n",
       "      <td>never</td>\n",
       "      <td>NaN</td>\n",
       "      <td>4~8</td>\n",
       "      <td>1~3</td>\n",
       "      <td>1</td>\n",
       "      <td>1</td>\n",
       "      <td>0</td>\n",
       "      <td>0</td>\n",
       "      <td>1</td>\n",
       "      <td>0</td>\n",
       "    </tr>\n",
       "  </tbody>\n",
       "</table>\n",
       "<p>5 rows × 26 columns</p>\n",
       "</div>"
      ]
     },
     "execution_count": 108,
     "metadata": {},
     "output_type": "execute_result"
    }
   ],
   "execution_count": 108
  },
  {
   "cell_type": "markdown",
   "metadata": {},
   "source": "2. Investigate the dataset for missing or problematic data."
  },
  {
   "cell_type": "code",
   "metadata": {
    "ExecuteTime": {
     "end_time": "2024-05-07T23:08:32.845363Z",
     "start_time": "2024-05-07T23:08:32.839320Z"
    }
   },
   "source": "data.info()",
   "outputs": [
    {
     "name": "stdout",
     "output_type": "stream",
     "text": [
      "<class 'pandas.core.frame.DataFrame'>\n",
      "RangeIndex: 12684 entries, 0 to 12683\n",
      "Data columns (total 26 columns):\n",
      " #   Column                Non-Null Count  Dtype \n",
      "---  ------                --------------  ----- \n",
      " 0   destination           12684 non-null  object\n",
      " 1   passanger             12684 non-null  object\n",
      " 2   weather               12684 non-null  object\n",
      " 3   temperature           12684 non-null  int64 \n",
      " 4   time                  12684 non-null  object\n",
      " 5   coupon                12684 non-null  object\n",
      " 6   expiration            12684 non-null  object\n",
      " 7   gender                12684 non-null  object\n",
      " 8   age                   12684 non-null  object\n",
      " 9   maritalStatus         12684 non-null  object\n",
      " 10  has_children          12684 non-null  int64 \n",
      " 11  education             12684 non-null  object\n",
      " 12  occupation            12684 non-null  object\n",
      " 13  income                12684 non-null  object\n",
      " 14  car                   108 non-null    object\n",
      " 15  Bar                   12577 non-null  object\n",
      " 16  CoffeeHouse           12467 non-null  object\n",
      " 17  CarryAway             12533 non-null  object\n",
      " 18  RestaurantLessThan20  12554 non-null  object\n",
      " 19  Restaurant20To50      12495 non-null  object\n",
      " 20  toCoupon_GEQ5min      12684 non-null  int64 \n",
      " 21  toCoupon_GEQ15min     12684 non-null  int64 \n",
      " 22  toCoupon_GEQ25min     12684 non-null  int64 \n",
      " 23  direction_same        12684 non-null  int64 \n",
      " 24  direction_opp         12684 non-null  int64 \n",
      " 25  Y                     12684 non-null  int64 \n",
      "dtypes: int64(8), object(18)\n",
      "memory usage: 2.5+ MB\n"
     ]
    }
   ],
   "execution_count": 109
  },
  {
   "metadata": {
    "ExecuteTime": {
     "end_time": "2024-05-07T23:08:32.848072Z",
     "start_time": "2024-05-07T23:08:32.846240Z"
    }
   },
   "cell_type": "code",
   "source": "data['car'].unique()",
   "outputs": [
    {
     "data": {
      "text/plain": [
       "array([nan, 'Scooter and motorcycle', 'crossover', 'Mazda5',\n",
       "       'do not drive', 'Car that is too old to install Onstar :D'],\n",
       "      dtype=object)"
      ]
     },
     "execution_count": 110,
     "metadata": {},
     "output_type": "execute_result"
    }
   ],
   "execution_count": 110
  },
  {
   "metadata": {
    "ExecuteTime": {
     "end_time": "2024-05-07T23:08:32.850243Z",
     "start_time": "2024-05-07T23:08:32.848503Z"
    }
   },
   "cell_type": "code",
   "source": "data['CarryAway'].unique()",
   "outputs": [
    {
     "data": {
      "text/plain": [
       "array([nan, '4~8', '1~3', 'gt8', 'less1', 'never'], dtype=object)"
      ]
     },
     "execution_count": 111,
     "metadata": {},
     "output_type": "execute_result"
    }
   ],
   "execution_count": 111
  },
  {
   "metadata": {
    "ExecuteTime": {
     "end_time": "2024-05-07T23:08:32.853091Z",
     "start_time": "2024-05-07T23:08:32.850842Z"
    }
   },
   "cell_type": "code",
   "source": "data['CoffeeHouse'].unique()\n",
   "outputs": [
    {
     "data": {
      "text/plain": [
       "array(['never', 'less1', '4~8', '1~3', 'gt8', nan], dtype=object)"
      ]
     },
     "execution_count": 112,
     "metadata": {},
     "output_type": "execute_result"
    }
   ],
   "execution_count": 112
  },
  {
   "metadata": {
    "ExecuteTime": {
     "end_time": "2024-05-07T23:08:32.859938Z",
     "start_time": "2024-05-07T23:08:32.853892Z"
    }
   },
   "cell_type": "code",
   "source": "data[data['CoffeeHouse'].isnull()]",
   "outputs": [
    {
     "data": {
      "text/plain": [
       "           destination  passanger weather  temperature  time  \\\n",
       "495    No Urgent Place      Alone   Sunny           55   2PM   \n",
       "496    No Urgent Place  Friend(s)   Sunny           80  10AM   \n",
       "497    No Urgent Place  Friend(s)   Sunny           80  10AM   \n",
       "498    No Urgent Place  Friend(s)   Sunny           80   2PM   \n",
       "499    No Urgent Place  Friend(s)   Sunny           80   2PM   \n",
       "...                ...        ...     ...          ...   ...   \n",
       "12409             Home      Alone   Sunny           80   6PM   \n",
       "12410             Work      Alone   Rainy           55   7AM   \n",
       "12411             Work      Alone   Snowy           30   7AM   \n",
       "12412             Work      Alone   Snowy           30   7AM   \n",
       "12413             Work      Alone   Sunny           80   7AM   \n",
       "\n",
       "                      coupon expiration  gender age      maritalStatus  ...  \\\n",
       "495          Restaurant(<20)         1d    Male  26  Unmarried partner  ...   \n",
       "496             Coffee House         2h    Male  26  Unmarried partner  ...   \n",
       "497    Carry out & Take away         2h    Male  26  Unmarried partner  ...   \n",
       "498             Coffee House         2h    Male  26  Unmarried partner  ...   \n",
       "499             Coffee House         1d    Male  26  Unmarried partner  ...   \n",
       "...                      ...        ...     ...  ..                ...  ...   \n",
       "12409      Restaurant(20-50)         1d  Female  36    Married partner  ...   \n",
       "12410  Carry out & Take away         1d  Female  36    Married partner  ...   \n",
       "12411           Coffee House         1d  Female  36    Married partner  ...   \n",
       "12412                    Bar         1d  Female  36    Married partner  ...   \n",
       "12413      Restaurant(20-50)         2h  Female  36    Married partner  ...   \n",
       "\n",
       "       CoffeeHouse CarryAway RestaurantLessThan20 Restaurant20To50  \\\n",
       "495            NaN     less1                less1            less1   \n",
       "496            NaN     less1                less1            less1   \n",
       "497            NaN     less1                less1            less1   \n",
       "498            NaN     less1                less1            less1   \n",
       "499            NaN     less1                less1            less1   \n",
       "...            ...       ...                  ...              ...   \n",
       "12409          NaN       1~3                  1~3              1~3   \n",
       "12410          NaN       1~3                  1~3              1~3   \n",
       "12411          NaN       1~3                  1~3              1~3   \n",
       "12412          NaN       1~3                  1~3              1~3   \n",
       "12413          NaN       1~3                  1~3              1~3   \n",
       "\n",
       "      toCoupon_GEQ5min toCoupon_GEQ15min toCoupon_GEQ25min direction_same  \\\n",
       "495                  1                 0                 0              0   \n",
       "496                  1                 0                 0              0   \n",
       "497                  1                 1                 0              0   \n",
       "498                  1                 1                 0              0   \n",
       "499                  1                 1                 0              0   \n",
       "...                ...               ...               ...            ...   \n",
       "12409                1                 0                 0              1   \n",
       "12410                1                 0                 0              0   \n",
       "12411                1                 0                 0              1   \n",
       "12412                1                 1                 1              0   \n",
       "12413                1                 0                 0              1   \n",
       "\n",
       "      direction_opp  Y  \n",
       "495               1  1  \n",
       "496               1  1  \n",
       "497               1  0  \n",
       "498               1  0  \n",
       "499               1  0  \n",
       "...             ... ..  \n",
       "12409             0  1  \n",
       "12410             1  1  \n",
       "12411             0  0  \n",
       "12412             1  0  \n",
       "12413             0  0  \n",
       "\n",
       "[217 rows x 26 columns]"
      ],
      "text/html": [
       "<div>\n",
       "<style scoped>\n",
       "    .dataframe tbody tr th:only-of-type {\n",
       "        vertical-align: middle;\n",
       "    }\n",
       "\n",
       "    .dataframe tbody tr th {\n",
       "        vertical-align: top;\n",
       "    }\n",
       "\n",
       "    .dataframe thead th {\n",
       "        text-align: right;\n",
       "    }\n",
       "</style>\n",
       "<table border=\"1\" class=\"dataframe\">\n",
       "  <thead>\n",
       "    <tr style=\"text-align: right;\">\n",
       "      <th></th>\n",
       "      <th>destination</th>\n",
       "      <th>passanger</th>\n",
       "      <th>weather</th>\n",
       "      <th>temperature</th>\n",
       "      <th>time</th>\n",
       "      <th>coupon</th>\n",
       "      <th>expiration</th>\n",
       "      <th>gender</th>\n",
       "      <th>age</th>\n",
       "      <th>maritalStatus</th>\n",
       "      <th>...</th>\n",
       "      <th>CoffeeHouse</th>\n",
       "      <th>CarryAway</th>\n",
       "      <th>RestaurantLessThan20</th>\n",
       "      <th>Restaurant20To50</th>\n",
       "      <th>toCoupon_GEQ5min</th>\n",
       "      <th>toCoupon_GEQ15min</th>\n",
       "      <th>toCoupon_GEQ25min</th>\n",
       "      <th>direction_same</th>\n",
       "      <th>direction_opp</th>\n",
       "      <th>Y</th>\n",
       "    </tr>\n",
       "  </thead>\n",
       "  <tbody>\n",
       "    <tr>\n",
       "      <th>495</th>\n",
       "      <td>No Urgent Place</td>\n",
       "      <td>Alone</td>\n",
       "      <td>Sunny</td>\n",
       "      <td>55</td>\n",
       "      <td>2PM</td>\n",
       "      <td>Restaurant(&lt;20)</td>\n",
       "      <td>1d</td>\n",
       "      <td>Male</td>\n",
       "      <td>26</td>\n",
       "      <td>Unmarried partner</td>\n",
       "      <td>...</td>\n",
       "      <td>NaN</td>\n",
       "      <td>less1</td>\n",
       "      <td>less1</td>\n",
       "      <td>less1</td>\n",
       "      <td>1</td>\n",
       "      <td>0</td>\n",
       "      <td>0</td>\n",
       "      <td>0</td>\n",
       "      <td>1</td>\n",
       "      <td>1</td>\n",
       "    </tr>\n",
       "    <tr>\n",
       "      <th>496</th>\n",
       "      <td>No Urgent Place</td>\n",
       "      <td>Friend(s)</td>\n",
       "      <td>Sunny</td>\n",
       "      <td>80</td>\n",
       "      <td>10AM</td>\n",
       "      <td>Coffee House</td>\n",
       "      <td>2h</td>\n",
       "      <td>Male</td>\n",
       "      <td>26</td>\n",
       "      <td>Unmarried partner</td>\n",
       "      <td>...</td>\n",
       "      <td>NaN</td>\n",
       "      <td>less1</td>\n",
       "      <td>less1</td>\n",
       "      <td>less1</td>\n",
       "      <td>1</td>\n",
       "      <td>0</td>\n",
       "      <td>0</td>\n",
       "      <td>0</td>\n",
       "      <td>1</td>\n",
       "      <td>1</td>\n",
       "    </tr>\n",
       "    <tr>\n",
       "      <th>497</th>\n",
       "      <td>No Urgent Place</td>\n",
       "      <td>Friend(s)</td>\n",
       "      <td>Sunny</td>\n",
       "      <td>80</td>\n",
       "      <td>10AM</td>\n",
       "      <td>Carry out &amp; Take away</td>\n",
       "      <td>2h</td>\n",
       "      <td>Male</td>\n",
       "      <td>26</td>\n",
       "      <td>Unmarried partner</td>\n",
       "      <td>...</td>\n",
       "      <td>NaN</td>\n",
       "      <td>less1</td>\n",
       "      <td>less1</td>\n",
       "      <td>less1</td>\n",
       "      <td>1</td>\n",
       "      <td>1</td>\n",
       "      <td>0</td>\n",
       "      <td>0</td>\n",
       "      <td>1</td>\n",
       "      <td>0</td>\n",
       "    </tr>\n",
       "    <tr>\n",
       "      <th>498</th>\n",
       "      <td>No Urgent Place</td>\n",
       "      <td>Friend(s)</td>\n",
       "      <td>Sunny</td>\n",
       "      <td>80</td>\n",
       "      <td>2PM</td>\n",
       "      <td>Coffee House</td>\n",
       "      <td>2h</td>\n",
       "      <td>Male</td>\n",
       "      <td>26</td>\n",
       "      <td>Unmarried partner</td>\n",
       "      <td>...</td>\n",
       "      <td>NaN</td>\n",
       "      <td>less1</td>\n",
       "      <td>less1</td>\n",
       "      <td>less1</td>\n",
       "      <td>1</td>\n",
       "      <td>1</td>\n",
       "      <td>0</td>\n",
       "      <td>0</td>\n",
       "      <td>1</td>\n",
       "      <td>0</td>\n",
       "    </tr>\n",
       "    <tr>\n",
       "      <th>499</th>\n",
       "      <td>No Urgent Place</td>\n",
       "      <td>Friend(s)</td>\n",
       "      <td>Sunny</td>\n",
       "      <td>80</td>\n",
       "      <td>2PM</td>\n",
       "      <td>Coffee House</td>\n",
       "      <td>1d</td>\n",
       "      <td>Male</td>\n",
       "      <td>26</td>\n",
       "      <td>Unmarried partner</td>\n",
       "      <td>...</td>\n",
       "      <td>NaN</td>\n",
       "      <td>less1</td>\n",
       "      <td>less1</td>\n",
       "      <td>less1</td>\n",
       "      <td>1</td>\n",
       "      <td>1</td>\n",
       "      <td>0</td>\n",
       "      <td>0</td>\n",
       "      <td>1</td>\n",
       "      <td>0</td>\n",
       "    </tr>\n",
       "    <tr>\n",
       "      <th>...</th>\n",
       "      <td>...</td>\n",
       "      <td>...</td>\n",
       "      <td>...</td>\n",
       "      <td>...</td>\n",
       "      <td>...</td>\n",
       "      <td>...</td>\n",
       "      <td>...</td>\n",
       "      <td>...</td>\n",
       "      <td>...</td>\n",
       "      <td>...</td>\n",
       "      <td>...</td>\n",
       "      <td>...</td>\n",
       "      <td>...</td>\n",
       "      <td>...</td>\n",
       "      <td>...</td>\n",
       "      <td>...</td>\n",
       "      <td>...</td>\n",
       "      <td>...</td>\n",
       "      <td>...</td>\n",
       "      <td>...</td>\n",
       "      <td>...</td>\n",
       "    </tr>\n",
       "    <tr>\n",
       "      <th>12409</th>\n",
       "      <td>Home</td>\n",
       "      <td>Alone</td>\n",
       "      <td>Sunny</td>\n",
       "      <td>80</td>\n",
       "      <td>6PM</td>\n",
       "      <td>Restaurant(20-50)</td>\n",
       "      <td>1d</td>\n",
       "      <td>Female</td>\n",
       "      <td>36</td>\n",
       "      <td>Married partner</td>\n",
       "      <td>...</td>\n",
       "      <td>NaN</td>\n",
       "      <td>1~3</td>\n",
       "      <td>1~3</td>\n",
       "      <td>1~3</td>\n",
       "      <td>1</td>\n",
       "      <td>0</td>\n",
       "      <td>0</td>\n",
       "      <td>1</td>\n",
       "      <td>0</td>\n",
       "      <td>1</td>\n",
       "    </tr>\n",
       "    <tr>\n",
       "      <th>12410</th>\n",
       "      <td>Work</td>\n",
       "      <td>Alone</td>\n",
       "      <td>Rainy</td>\n",
       "      <td>55</td>\n",
       "      <td>7AM</td>\n",
       "      <td>Carry out &amp; Take away</td>\n",
       "      <td>1d</td>\n",
       "      <td>Female</td>\n",
       "      <td>36</td>\n",
       "      <td>Married partner</td>\n",
       "      <td>...</td>\n",
       "      <td>NaN</td>\n",
       "      <td>1~3</td>\n",
       "      <td>1~3</td>\n",
       "      <td>1~3</td>\n",
       "      <td>1</td>\n",
       "      <td>0</td>\n",
       "      <td>0</td>\n",
       "      <td>0</td>\n",
       "      <td>1</td>\n",
       "      <td>1</td>\n",
       "    </tr>\n",
       "    <tr>\n",
       "      <th>12411</th>\n",
       "      <td>Work</td>\n",
       "      <td>Alone</td>\n",
       "      <td>Snowy</td>\n",
       "      <td>30</td>\n",
       "      <td>7AM</td>\n",
       "      <td>Coffee House</td>\n",
       "      <td>1d</td>\n",
       "      <td>Female</td>\n",
       "      <td>36</td>\n",
       "      <td>Married partner</td>\n",
       "      <td>...</td>\n",
       "      <td>NaN</td>\n",
       "      <td>1~3</td>\n",
       "      <td>1~3</td>\n",
       "      <td>1~3</td>\n",
       "      <td>1</td>\n",
       "      <td>0</td>\n",
       "      <td>0</td>\n",
       "      <td>1</td>\n",
       "      <td>0</td>\n",
       "      <td>0</td>\n",
       "    </tr>\n",
       "    <tr>\n",
       "      <th>12412</th>\n",
       "      <td>Work</td>\n",
       "      <td>Alone</td>\n",
       "      <td>Snowy</td>\n",
       "      <td>30</td>\n",
       "      <td>7AM</td>\n",
       "      <td>Bar</td>\n",
       "      <td>1d</td>\n",
       "      <td>Female</td>\n",
       "      <td>36</td>\n",
       "      <td>Married partner</td>\n",
       "      <td>...</td>\n",
       "      <td>NaN</td>\n",
       "      <td>1~3</td>\n",
       "      <td>1~3</td>\n",
       "      <td>1~3</td>\n",
       "      <td>1</td>\n",
       "      <td>1</td>\n",
       "      <td>1</td>\n",
       "      <td>0</td>\n",
       "      <td>1</td>\n",
       "      <td>0</td>\n",
       "    </tr>\n",
       "    <tr>\n",
       "      <th>12413</th>\n",
       "      <td>Work</td>\n",
       "      <td>Alone</td>\n",
       "      <td>Sunny</td>\n",
       "      <td>80</td>\n",
       "      <td>7AM</td>\n",
       "      <td>Restaurant(20-50)</td>\n",
       "      <td>2h</td>\n",
       "      <td>Female</td>\n",
       "      <td>36</td>\n",
       "      <td>Married partner</td>\n",
       "      <td>...</td>\n",
       "      <td>NaN</td>\n",
       "      <td>1~3</td>\n",
       "      <td>1~3</td>\n",
       "      <td>1~3</td>\n",
       "      <td>1</td>\n",
       "      <td>0</td>\n",
       "      <td>0</td>\n",
       "      <td>1</td>\n",
       "      <td>0</td>\n",
       "      <td>0</td>\n",
       "    </tr>\n",
       "  </tbody>\n",
       "</table>\n",
       "<p>217 rows × 26 columns</p>\n",
       "</div>"
      ]
     },
     "execution_count": 113,
     "metadata": {},
     "output_type": "execute_result"
    }
   ],
   "execution_count": 113
  },
  {
   "cell_type": "markdown",
   "metadata": {},
   "source": [
    "3. Decide what to do about your missing data -- drop, replace, other...\n",
    "Dropping the car column since it doesn't seem like any of the data is useful. The options between a scooter, crossover, mazda, do not drive, null, and a car without onstar are very vague.\n",
    "Also dropping the rows where the places are null since it's hard for us to tell what the person means by that or if they are more or less likely to go to a bar. For determining if one would use a coupon, this data being missing would be problematic for our analysis.\n",
    " "
   ]
  },
  {
   "cell_type": "code",
   "metadata": {
    "ExecuteTime": {
     "end_time": "2024-05-07T23:08:32.881792Z",
     "start_time": "2024-05-07T23:08:32.863680Z"
    }
   },
   "source": [
    "df = data.dropna(subset=['CarryAway', 'CoffeeHouse', 'Bar', 'RestaurantLessThan20', 'Restaurant20To50', 'CarryAway', 'CoffeeHouse', 'Bar', 'RestaurantLessThan20', 'Restaurant20To50'])\n",
    "df = df.drop(columns=['car'])\n",
    "df['coupon'] = df['coupon'].replace({'Carry out & Take away': 'Carry Away'})\n",
    "df = df.rename(columns={'passanger': 'passenger'})\n",
    "df['age'] = df['age'].replace('below21', '20')\n",
    "df['age'] = df['age'].replace('50plus', '51')\n",
    "df['age'] = df['age'].astype(int)\n",
    "df.info()"
   ],
   "outputs": [
    {
     "name": "stdout",
     "output_type": "stream",
     "text": [
      "<class 'pandas.core.frame.DataFrame'>\n",
      "Index: 12079 entries, 22 to 12683\n",
      "Data columns (total 25 columns):\n",
      " #   Column                Non-Null Count  Dtype \n",
      "---  ------                --------------  ----- \n",
      " 0   destination           12079 non-null  object\n",
      " 1   passenger             12079 non-null  object\n",
      " 2   weather               12079 non-null  object\n",
      " 3   temperature           12079 non-null  int64 \n",
      " 4   time                  12079 non-null  object\n",
      " 5   coupon                12079 non-null  object\n",
      " 6   expiration            12079 non-null  object\n",
      " 7   gender                12079 non-null  object\n",
      " 8   age                   12079 non-null  int64 \n",
      " 9   maritalStatus         12079 non-null  object\n",
      " 10  has_children          12079 non-null  int64 \n",
      " 11  education             12079 non-null  object\n",
      " 12  occupation            12079 non-null  object\n",
      " 13  income                12079 non-null  object\n",
      " 14  Bar                   12079 non-null  object\n",
      " 15  CoffeeHouse           12079 non-null  object\n",
      " 16  CarryAway             12079 non-null  object\n",
      " 17  RestaurantLessThan20  12079 non-null  object\n",
      " 18  Restaurant20To50      12079 non-null  object\n",
      " 19  toCoupon_GEQ5min      12079 non-null  int64 \n",
      " 20  toCoupon_GEQ15min     12079 non-null  int64 \n",
      " 21  toCoupon_GEQ25min     12079 non-null  int64 \n",
      " 22  direction_same        12079 non-null  int64 \n",
      " 23  direction_opp         12079 non-null  int64 \n",
      " 24  Y                     12079 non-null  int64 \n",
      "dtypes: int64(9), object(16)\n",
      "memory usage: 2.4+ MB\n"
     ]
    }
   ],
   "execution_count": 114
  },
  {
   "cell_type": "markdown",
   "metadata": {},
   "source": [
    "4. What proportion of the total observations chose to accept the coupon? \n",
    "### NOTE: below21 is now 20 and 50plus is now 51. This allows the column to be an integer type.\n",
    "\n"
   ]
  },
  {
   "cell_type": "code",
   "metadata": {
    "ExecuteTime": {
     "end_time": "2024-05-07T23:08:32.888432Z",
     "start_time": "2024-05-07T23:08:32.885406Z"
    }
   },
   "source": "print(df[df['Y'] == 1].size / df.size)",
   "outputs": [
    {
     "name": "stdout",
     "output_type": "stream",
     "text": [
      "0.5693352098683666\n"
     ]
    }
   ],
   "execution_count": 115
  },
  {
   "cell_type": "markdown",
   "metadata": {},
   "source": [
    "5. Use a bar plot to visualize the `coupon` column."
   ]
  },
  {
   "cell_type": "code",
   "metadata": {
    "ExecuteTime": {
     "end_time": "2024-05-07T23:08:33.062114Z",
     "start_time": "2024-05-07T23:08:32.929987Z"
    }
   },
   "source": [
    "sns.countplot(df, x=\"coupon\", hue=\"Y\", palette='bright', alpha = 1).set_title('Coupon Acceptance for Different Types of Coupons')\n",
    "plt.savefig('images/coupon_bar.png')"
   ],
   "outputs": [
    {
     "data": {
      "text/plain": [
       "<Figure size 640x480 with 1 Axes>"
      ],
      "image/png": "[encoded data removed]"
     },
     "metadata": {},
     "output_type": "display_data"
    }
   ],
   "execution_count": 116
  },
  {
   "cell_type": "markdown",
   "metadata": {},
   "source": [
    "6. Use a histogram to visualize the temperature column."
   ]
  },
  {
   "cell_type": "code",
   "metadata": {
    "ExecuteTime": {
     "end_time": "2024-05-07T23:08:33.284250Z",
     "start_time": "2024-05-07T23:08:33.063583Z"
    }
   },
   "source": [
    "sns.displot(df, x='temperature', hue='Y', kde=True, palette='bright', alpha = 1).set(title='Temperature And Coupon Acceptance')\n",
    "plt.savefig('images/temperature_hist.png')"
   ],
   "outputs": [
    {
     "data": {
      "text/plain": [
       "<Figure size 550.875x500 with 1 Axes>"
      ],
      "image/png": "[encoded data removed]"
     },
     "metadata": {},
     "output_type": "display_data"
    }
   ],
   "execution_count": 117
  },
  {
   "cell_type": "code",
   "metadata": {
    "ExecuteTime": {
     "end_time": "2024-05-07T23:08:33.288060Z",
     "start_time": "2024-05-07T23:08:33.285369Z"
    }
   },
   "source": "df['coupon'].unique()",
   "outputs": [
    {
     "data": {
      "text/plain": [
       "array(['Restaurant(<20)', 'Coffee House', 'Bar', 'Carry Away',\n",
       "       'Restaurant(20-50)'], dtype=object)"
      ]
     },
     "execution_count": 118,
     "metadata": {},
     "output_type": "execute_result"
    }
   ],
   "execution_count": 118
  },
  {
   "cell_type": "code",
   "metadata": {
    "ExecuteTime": {
     "end_time": "2024-05-07T23:08:33.290121Z",
     "start_time": "2024-05-07T23:08:33.288675Z"
    }
   },
   "source": [],
   "outputs": [],
   "execution_count": 118
  },
  {
   "cell_type": "code",
   "metadata": {
    "ExecuteTime": {
     "end_time": "2024-05-07T23:08:33.292696Z",
     "start_time": "2024-05-07T23:08:33.291413Z"
    }
   },
   "source": [],
   "outputs": [],
   "execution_count": 118
  },
  {
   "cell_type": "code",
   "metadata": {
    "ExecuteTime": {
     "end_time": "2024-05-07T23:08:33.295007Z",
     "start_time": "2024-05-07T23:08:33.293539Z"
    }
   },
   "source": [],
   "outputs": [],
   "execution_count": 118
  },
  {
   "cell_type": "markdown",
   "metadata": {},
   "source": [
    "**Investigating the Bar Coupons**\n",
    "\n",
    "Now, we will lead you through an exploration of just the bar related coupons.  \n",
    "\n",
    "1. Create a new `DataFrame` that contains just the bar coupons.\n"
   ]
  },
  {
   "cell_type": "code",
   "metadata": {
    "ExecuteTime": {
     "end_time": "2024-05-07T23:08:33.304367Z",
     "start_time": "2024-05-07T23:08:33.295510Z"
    }
   },
   "source": [
    "df_bar = df[df['coupon'] == 'Bar']\n",
    "df_bar"
   ],
   "outputs": [
    {
     "data": {
      "text/plain": [
       "           destination  passenger weather  temperature  time coupon  \\\n",
       "24     No Urgent Place  Friend(s)   Sunny           80  10AM    Bar   \n",
       "35                Home      Alone   Sunny           55   6PM    Bar   \n",
       "39                Work      Alone   Sunny           55   7AM    Bar   \n",
       "46     No Urgent Place  Friend(s)   Sunny           80  10AM    Bar   \n",
       "57                Home      Alone   Sunny           55   6PM    Bar   \n",
       "...                ...        ...     ...          ...   ...    ...   \n",
       "12663  No Urgent Place  Friend(s)   Sunny           80  10PM    Bar   \n",
       "12664  No Urgent Place  Friend(s)   Sunny           55  10PM    Bar   \n",
       "12667  No Urgent Place      Alone   Rainy           55  10AM    Bar   \n",
       "12670  No Urgent Place    Partner   Rainy           55   6PM    Bar   \n",
       "12682             Work      Alone   Snowy           30   7AM    Bar   \n",
       "\n",
       "      expiration gender  age maritalStatus  ...  CoffeeHouse CarryAway  \\\n",
       "24            1d   Male   21        Single  ...        less1       4~8   \n",
       "35            1d   Male   21        Single  ...        less1       4~8   \n",
       "39            1d   Male   21        Single  ...        less1       4~8   \n",
       "46            1d   Male   46        Single  ...          4~8       1~3   \n",
       "57            1d   Male   46        Single  ...          4~8       1~3   \n",
       "...          ...    ...  ...           ...  ...          ...       ...   \n",
       "12663         1d   Male   26        Single  ...        never       1~3   \n",
       "12664         2h   Male   26        Single  ...        never       1~3   \n",
       "12667         1d   Male   26        Single  ...        never       1~3   \n",
       "12670         2h   Male   26        Single  ...        never       1~3   \n",
       "12682         1d   Male   26        Single  ...        never       1~3   \n",
       "\n",
       "      RestaurantLessThan20 Restaurant20To50 toCoupon_GEQ5min  \\\n",
       "24                     4~8            less1                1   \n",
       "35                     4~8            less1                1   \n",
       "39                     4~8            less1                1   \n",
       "46                     1~3            never                1   \n",
       "57                     1~3            never                1   \n",
       "...                    ...              ...              ...   \n",
       "12663                  4~8              1~3                1   \n",
       "12664                  4~8              1~3                1   \n",
       "12667                  4~8              1~3                1   \n",
       "12670                  4~8              1~3                1   \n",
       "12682                  4~8              1~3                1   \n",
       "\n",
       "      toCoupon_GEQ15min toCoupon_GEQ25min direction_same direction_opp  Y  \n",
       "24                    0                 0              0             1  1  \n",
       "35                    0                 0              1             0  1  \n",
       "39                    1                 1              0             1  1  \n",
       "46                    0                 0              0             1  0  \n",
       "57                    0                 0              1             0  0  \n",
       "...                 ...               ...            ...           ... ..  \n",
       "12663                 1                 0              0             1  0  \n",
       "12664                 1                 0              0             1  0  \n",
       "12667                 1                 0              0             1  0  \n",
       "12670                 1                 0              0             1  0  \n",
       "12682                 1                 1              0             1  0  \n",
       "\n",
       "[1913 rows x 25 columns]"
      ],
      "text/html": [
       "<div>\n",
       "<style scoped>\n",
       "    .dataframe tbody tr th:only-of-type {\n",
       "        vertical-align: middle;\n",
       "    }\n",
       "\n",
       "    .dataframe tbody tr th {\n",
       "        vertical-align: top;\n",
       "    }\n",
       "\n",
       "    .dataframe thead th {\n",
       "        text-align: right;\n",
       "    }\n",
       "</style>\n",
       "<table border=\"1\" class=\"dataframe\">\n",
       "  <thead>\n",
       "    <tr style=\"text-align: right;\">\n",
       "      <th></th>\n",
       "      <th>destination</th>\n",
       "      <th>passenger</th>\n",
       "      <th>weather</th>\n",
       "      <th>temperature</th>\n",
       "      <th>time</th>\n",
       "      <th>coupon</th>\n",
       "      <th>expiration</th>\n",
       "      <th>gender</th>\n",
       "      <th>age</th>\n",
       "      <th>maritalStatus</th>\n",
       "      <th>...</th>\n",
       "      <th>CoffeeHouse</th>\n",
       "      <th>CarryAway</th>\n",
       "      <th>RestaurantLessThan20</th>\n",
       "      <th>Restaurant20To50</th>\n",
       "      <th>toCoupon_GEQ5min</th>\n",
       "      <th>toCoupon_GEQ15min</th>\n",
       "      <th>toCoupon_GEQ25min</th>\n",
       "      <th>direction_same</th>\n",
       "      <th>direction_opp</th>\n",
       "      <th>Y</th>\n",
       "    </tr>\n",
       "  </thead>\n",
       "  <tbody>\n",
       "    <tr>\n",
       "      <th>24</th>\n",
       "      <td>No Urgent Place</td>\n",
       "      <td>Friend(s)</td>\n",
       "      <td>Sunny</td>\n",
       "      <td>80</td>\n",
       "      <td>10AM</td>\n",
       "      <td>Bar</td>\n",
       "      <td>1d</td>\n",
       "      <td>Male</td>\n",
       "      <td>21</td>\n",
       "      <td>Single</td>\n",
       "      <td>...</td>\n",
       "      <td>less1</td>\n",
       "      <td>4~8</td>\n",
       "      <td>4~8</td>\n",
       "      <td>less1</td>\n",
       "      <td>1</td>\n",
       "      <td>0</td>\n",
       "      <td>0</td>\n",
       "      <td>0</td>\n",
       "      <td>1</td>\n",
       "      <td>1</td>\n",
       "    </tr>\n",
       "    <tr>\n",
       "      <th>35</th>\n",
       "      <td>Home</td>\n",
       "      <td>Alone</td>\n",
       "      <td>Sunny</td>\n",
       "      <td>55</td>\n",
       "      <td>6PM</td>\n",
       "      <td>Bar</td>\n",
       "      <td>1d</td>\n",
       "      <td>Male</td>\n",
       "      <td>21</td>\n",
       "      <td>Single</td>\n",
       "      <td>...</td>\n",
       "      <td>less1</td>\n",
       "      <td>4~8</td>\n",
       "      <td>4~8</td>\n",
       "      <td>less1</td>\n",
       "      <td>1</td>\n",
       "      <td>0</td>\n",
       "      <td>0</td>\n",
       "      <td>1</td>\n",
       "      <td>0</td>\n",
       "      <td>1</td>\n",
       "    </tr>\n",
       "    <tr>\n",
       "      <th>39</th>\n",
       "      <td>Work</td>\n",
       "      <td>Alone</td>\n",
       "      <td>Sunny</td>\n",
       "      <td>55</td>\n",
       "      <td>7AM</td>\n",
       "      <td>Bar</td>\n",
       "      <td>1d</td>\n",
       "      <td>Male</td>\n",
       "      <td>21</td>\n",
       "      <td>Single</td>\n",
       "      <td>...</td>\n",
       "      <td>less1</td>\n",
       "      <td>4~8</td>\n",
       "      <td>4~8</td>\n",
       "      <td>less1</td>\n",
       "      <td>1</td>\n",
       "      <td>1</td>\n",
       "      <td>1</td>\n",
       "      <td>0</td>\n",
       "      <td>1</td>\n",
       "      <td>1</td>\n",
       "    </tr>\n",
       "    <tr>\n",
       "      <th>46</th>\n",
       "      <td>No Urgent Place</td>\n",
       "      <td>Friend(s)</td>\n",
       "      <td>Sunny</td>\n",
       "      <td>80</td>\n",
       "      <td>10AM</td>\n",
       "      <td>Bar</td>\n",
       "      <td>1d</td>\n",
       "      <td>Male</td>\n",
       "      <td>46</td>\n",
       "      <td>Single</td>\n",
       "      <td>...</td>\n",
       "      <td>4~8</td>\n",
       "      <td>1~3</td>\n",
       "      <td>1~3</td>\n",
       "      <td>never</td>\n",
       "      <td>1</td>\n",
       "      <td>0</td>\n",
       "      <td>0</td>\n",
       "      <td>0</td>\n",
       "      <td>1</td>\n",
       "      <td>0</td>\n",
       "    </tr>\n",
       "    <tr>\n",
       "      <th>57</th>\n",
       "      <td>Home</td>\n",
       "      <td>Alone</td>\n",
       "      <td>Sunny</td>\n",
       "      <td>55</td>\n",
       "      <td>6PM</td>\n",
       "      <td>Bar</td>\n",
       "      <td>1d</td>\n",
       "      <td>Male</td>\n",
       "      <td>46</td>\n",
       "      <td>Single</td>\n",
       "      <td>...</td>\n",
       "      <td>4~8</td>\n",
       "      <td>1~3</td>\n",
       "      <td>1~3</td>\n",
       "      <td>never</td>\n",
       "      <td>1</td>\n",
       "      <td>0</td>\n",
       "      <td>0</td>\n",
       "      <td>1</td>\n",
       "      <td>0</td>\n",
       "      <td>0</td>\n",
       "    </tr>\n",
       "    <tr>\n",
       "      <th>...</th>\n",
       "      <td>...</td>\n",
       "      <td>...</td>\n",
       "      <td>...</td>\n",
       "      <td>...</td>\n",
       "      <td>...</td>\n",
       "      <td>...</td>\n",
       "      <td>...</td>\n",
       "      <td>...</td>\n",
       "      <td>...</td>\n",
       "      <td>...</td>\n",
       "      <td>...</td>\n",
       "      <td>...</td>\n",
       "      <td>...</td>\n",
       "      <td>...</td>\n",
       "      <td>...</td>\n",
       "      <td>...</td>\n",
       "      <td>...</td>\n",
       "      <td>...</td>\n",
       "      <td>...</td>\n",
       "      <td>...</td>\n",
       "      <td>...</td>\n",
       "    </tr>\n",
       "    <tr>\n",
       "      <th>12663</th>\n",
       "      <td>No Urgent Place</td>\n",
       "      <td>Friend(s)</td>\n",
       "      <td>Sunny</td>\n",
       "      <td>80</td>\n",
       "      <td>10PM</td>\n",
       "      <td>Bar</td>\n",
       "      <td>1d</td>\n",
       "      <td>Male</td>\n",
       "      <td>26</td>\n",
       "      <td>Single</td>\n",
       "      <td>...</td>\n",
       "      <td>never</td>\n",
       "      <td>1~3</td>\n",
       "      <td>4~8</td>\n",
       "      <td>1~3</td>\n",
       "      <td>1</td>\n",
       "      <td>1</td>\n",
       "      <td>0</td>\n",
       "      <td>0</td>\n",
       "      <td>1</td>\n",
       "      <td>0</td>\n",
       "    </tr>\n",
       "    <tr>\n",
       "      <th>12664</th>\n",
       "      <td>No Urgent Place</td>\n",
       "      <td>Friend(s)</td>\n",
       "      <td>Sunny</td>\n",
       "      <td>55</td>\n",
       "      <td>10PM</td>\n",
       "      <td>Bar</td>\n",
       "      <td>2h</td>\n",
       "      <td>Male</td>\n",
       "      <td>26</td>\n",
       "      <td>Single</td>\n",
       "      <td>...</td>\n",
       "      <td>never</td>\n",
       "      <td>1~3</td>\n",
       "      <td>4~8</td>\n",
       "      <td>1~3</td>\n",
       "      <td>1</td>\n",
       "      <td>1</td>\n",
       "      <td>0</td>\n",
       "      <td>0</td>\n",
       "      <td>1</td>\n",
       "      <td>0</td>\n",
       "    </tr>\n",
       "    <tr>\n",
       "      <th>12667</th>\n",
       "      <td>No Urgent Place</td>\n",
       "      <td>Alone</td>\n",
       "      <td>Rainy</td>\n",
       "      <td>55</td>\n",
       "      <td>10AM</td>\n",
       "      <td>Bar</td>\n",
       "      <td>1d</td>\n",
       "      <td>Male</td>\n",
       "      <td>26</td>\n",
       "      <td>Single</td>\n",
       "      <td>...</td>\n",
       "      <td>never</td>\n",
       "      <td>1~3</td>\n",
       "      <td>4~8</td>\n",
       "      <td>1~3</td>\n",
       "      <td>1</td>\n",
       "      <td>1</td>\n",
       "      <td>0</td>\n",
       "      <td>0</td>\n",
       "      <td>1</td>\n",
       "      <td>0</td>\n",
       "    </tr>\n",
       "    <tr>\n",
       "      <th>12670</th>\n",
       "      <td>No Urgent Place</td>\n",
       "      <td>Partner</td>\n",
       "      <td>Rainy</td>\n",
       "      <td>55</td>\n",
       "      <td>6PM</td>\n",
       "      <td>Bar</td>\n",
       "      <td>2h</td>\n",
       "      <td>Male</td>\n",
       "      <td>26</td>\n",
       "      <td>Single</td>\n",
       "      <td>...</td>\n",
       "      <td>never</td>\n",
       "      <td>1~3</td>\n",
       "      <td>4~8</td>\n",
       "      <td>1~3</td>\n",
       "      <td>1</td>\n",
       "      <td>1</td>\n",
       "      <td>0</td>\n",
       "      <td>0</td>\n",
       "      <td>1</td>\n",
       "      <td>0</td>\n",
       "    </tr>\n",
       "    <tr>\n",
       "      <th>12682</th>\n",
       "      <td>Work</td>\n",
       "      <td>Alone</td>\n",
       "      <td>Snowy</td>\n",
       "      <td>30</td>\n",
       "      <td>7AM</td>\n",
       "      <td>Bar</td>\n",
       "      <td>1d</td>\n",
       "      <td>Male</td>\n",
       "      <td>26</td>\n",
       "      <td>Single</td>\n",
       "      <td>...</td>\n",
       "      <td>never</td>\n",
       "      <td>1~3</td>\n",
       "      <td>4~8</td>\n",
       "      <td>1~3</td>\n",
       "      <td>1</td>\n",
       "      <td>1</td>\n",
       "      <td>1</td>\n",
       "      <td>0</td>\n",
       "      <td>1</td>\n",
       "      <td>0</td>\n",
       "    </tr>\n",
       "  </tbody>\n",
       "</table>\n",
       "<p>1913 rows × 25 columns</p>\n",
       "</div>"
      ]
     },
     "execution_count": 119,
     "metadata": {},
     "output_type": "execute_result"
    }
   ],
   "execution_count": 119
  },
  {
   "metadata": {
    "ExecuteTime": {
     "end_time": "2024-05-07T23:08:33.309552Z",
     "start_time": "2024-05-07T23:08:33.306468Z"
    }
   },
   "cell_type": "code",
   "source": "df_bar['Bar'].unique()",
   "outputs": [
    {
     "data": {
      "text/plain": [
       "array(['never', 'less1', '1~3', 'gt8', '4~8'], dtype=object)"
      ]
     },
     "execution_count": 120,
     "metadata": {},
     "output_type": "execute_result"
    }
   ],
   "execution_count": 120
  },
  {
   "metadata": {
    "ExecuteTime": {
     "end_time": "2024-05-07T23:08:33.314823Z",
     "start_time": "2024-05-07T23:08:33.311456Z"
    }
   },
   "cell_type": "code",
   "source": "df_bar['age'].unique()",
   "outputs": [
    {
     "data": {
      "text/plain": [
       "array([21, 46, 26, 31, 41, 51, 36, 20])"
      ]
     },
     "execution_count": 121,
     "metadata": {},
     "output_type": "execute_result"
    }
   ],
   "execution_count": 121
  },
  {
   "metadata": {
    "ExecuteTime": {
     "end_time": "2024-05-07T23:08:33.319489Z",
     "start_time": "2024-05-07T23:08:33.315785Z"
    }
   },
   "cell_type": "code",
   "source": "df_bar['occupation'].unique()",
   "outputs": [
    {
     "data": {
      "text/plain": [
       "array(['Architecture & Engineering', 'Student',\n",
       "       'Education&Training&Library', 'Unemployed', 'Healthcare Support',\n",
       "       'Healthcare Practitioners & Technical', 'Sales & Related',\n",
       "       'Management', 'Arts Design Entertainment Sports & Media',\n",
       "       'Computer & Mathematical', 'Life Physical Social Science',\n",
       "       'Personal Care & Service', 'Office & Administrative Support',\n",
       "       'Construction & Extraction', 'Legal', 'Retired',\n",
       "       'Community & Social Services', 'Installation Maintenance & Repair',\n",
       "       'Transportation & Material Moving', 'Business & Financial',\n",
       "       'Protective Service', 'Food Preparation & Serving Related',\n",
       "       'Production Occupations',\n",
       "       'Building & Grounds Cleaning & Maintenance',\n",
       "       'Farming Fishing & Forestry'], dtype=object)"
      ]
     },
     "execution_count": 122,
     "metadata": {},
     "output_type": "execute_result"
    }
   ],
   "execution_count": 122
  },
  {
   "metadata": {
    "ExecuteTime": {
     "end_time": "2024-05-07T23:08:33.327661Z",
     "start_time": "2024-05-07T23:08:33.323029Z"
    }
   },
   "cell_type": "code",
   "source": "df_bar['passenger'].unique()",
   "outputs": [
    {
     "data": {
      "text/plain": [
       "array(['Friend(s)', 'Alone', 'Kid(s)', 'Partner'], dtype=object)"
      ]
     },
     "execution_count": 123,
     "metadata": {},
     "output_type": "execute_result"
    }
   ],
   "execution_count": 123
  },
  {
   "metadata": {
    "ExecuteTime": {
     "end_time": "2024-05-07T23:08:33.330617Z",
     "start_time": "2024-05-07T23:08:33.328316Z"
    }
   },
   "cell_type": "code",
   "source": "df_bar['income'].unique()",
   "outputs": [
    {
     "data": {
      "text/plain": [
       "array(['$62500 - $74999', '$12500 - $24999', '$75000 - $87499',\n",
       "       '$50000 - $62499', '$37500 - $49999', '$25000 - $37499',\n",
       "       '$100000 or More', '$87500 - $99999', 'Less than $12500'],\n",
       "      dtype=object)"
      ]
     },
     "execution_count": 124,
     "metadata": {},
     "output_type": "execute_result"
    }
   ],
   "execution_count": 124
  },
  {
   "cell_type": "markdown",
   "metadata": {},
   "source": [
    "2. What proportion of bar coupons were accepted?\n"
   ]
  },
  {
   "cell_type": "code",
   "metadata": {
    "ExecuteTime": {
     "end_time": "2024-05-07T23:08:33.333853Z",
     "start_time": "2024-05-07T23:08:33.331351Z"
    }
   },
   "source": "print(\"Bar coupons overall acceptance rate: \", df_bar[df_bar['Y'] == 1].size / df_bar.size)",
   "outputs": [
    {
     "name": "stdout",
     "output_type": "stream",
     "text": [
      "Bar coupons overall acceptance rate:  0.41191845269210664\n"
     ]
    }
   ],
   "execution_count": 125
  },
  {
   "cell_type": "markdown",
   "metadata": {},
   "source": "3. Compare the acceptance rate between those who went to a bar 3 or fewer times a month to those who went more.\n"
  },
  {
   "cell_type": "code",
   "metadata": {
    "ExecuteTime": {
     "end_time": "2024-05-07T23:08:33.340781Z",
     "start_time": "2024-05-07T23:08:33.334461Z"
    }
   },
   "source": [
    "bar_3_or_less = ['never', 'less1', '1~3']\n",
    "df_bar_3_or_less = df_bar.query('Bar in @bar_3_or_less')\n",
    "df_bar_more_than_3 = df_bar.query('Bar not in @bar_3_or_less')\n",
    "print(\"Bar coupons acceptance rate for those who visit the bar 3 or less times a month: \", df_bar_3_or_less[df_bar_3_or_less['Y'] == 1].size / df_bar_3_or_less.size)\n",
    "print(\"Bar coupons acceptance rate for those who visit the bar 4 or more times a month: \", df_bar_more_than_3[df_bar_more_than_3['Y'] == 1].size / df_bar_more_than_3.size)"
   ],
   "outputs": [
    {
     "name": "stdout",
     "output_type": "stream",
     "text": [
      "Bar coupons acceptance rate for those who visit the bar 3 or less times a month:  0.37267441860465117\n",
      "Bar coupons acceptance rate for those who visit the bar 4 or more times a month:  0.7616580310880829\n"
     ]
    }
   ],
   "execution_count": 126
  },
  {
   "cell_type": "markdown",
   "metadata": {},
   "source": [
    "4. Compare the acceptance rate between drivers who go to a bar more than once a month and are over the age of 25 to the all others.  Is there a difference?\n"
   ]
  },
  {
   "cell_type": "code",
   "metadata": {
    "ExecuteTime": {
     "end_time": "2024-05-07T23:08:33.351853Z",
     "start_time": "2024-05-07T23:08:33.341719Z"
    }
   },
   "source": [
    "bar_more_than_1 = ['1~3', '4~8', 'gt8']\n",
    "df_bar_more_than_1 = df_bar.query('Bar in @bar_more_than_1 and age >= 26')\n",
    "print(\"Bar coupons acceptance rate for those who visit the bar more than once a month and are over 25: \", df_bar_more_than_1[df_bar_more_than_1['Y'] == 1].size / df_bar_more_than_1.size)\n",
    "df_bar_not_more_than_1 = df_bar.query('Bar not in @bar_more_than_1 or age < 26')\n",
    "print(\"Bar coupons acceptance rate for those who visit the bar less and 1 times a month or are 25 or younger: \", df_bar_not_more_than_1[df_bar_not_more_than_1['Y'] == 1].size / df_bar_not_more_than_1.size)"
   ],
   "outputs": [
    {
     "name": "stdout",
     "output_type": "stream",
     "text": [
      "Bar coupons acceptance rate for those who visit the bar more than once a month and are over 25:  0.6898263027295285\n",
      "Bar coupons acceptance rate for those who visit the bar less and 1 times a month or are 25 or younger:  0.33774834437086093\n"
     ]
    }
   ],
   "execution_count": 127
  },
  {
   "cell_type": "markdown",
   "metadata": {},
   "source": [
    "5. Use the same process to compare the acceptance rate between drivers who go to bars more than once a month and had passengers that were not a kid and had occupations other than farming, fishing, or forestry. \n"
   ]
  },
  {
   "cell_type": "code",
   "metadata": {
    "ExecuteTime": {
     "end_time": "2024-05-07T23:08:33.463329Z",
     "start_time": "2024-05-07T23:08:33.352851Z"
    }
   },
   "source": [
    "passenger_kid = ['Kid(s)']\n",
    "occupation_farming = ['Farming Fishing & Forestry']\n",
    "df_bar_not_kid_and_not_farming = df_bar.query('Bar in @bar_more_than_1 and passenger not in @passenger_kid and occupation not in @occupation_farming')\n",
    "print(\"Bar coupons acceptance rate for those who visit the bar more than once a month and do not have a child passenger and do not have an occupation in farming, fishing, or forestry: \", df_bar_not_kid_and_not_farming[df_bar_not_kid_and_not_farming['Y'] == 1].size / df_bar_not_kid_and_not_farming.size)\n",
    "# print acceptance rate for those who do have a child passenger\n",
    "df_bar_kid = df_bar.query('Bar in @bar_more_than_1 and (passenger in @passenger_kid)')\n",
    "print(\"Bar coupons acceptance rate for those who visit the bar more than once a month and have a child passenger \", df_bar_kid[df_bar_kid['Y'] == 1].size / df_bar_kid.size)\n",
    "\n",
    "sns.countplot(df_bar_not_kid_and_not_farming, x=\"Bar\", hue=\"Y\", palette='bright', alpha = 1, order=['1~3', '4~8', 'gt8']).set_title(\"Bar Coupons Acceptance Rate for Those Who Visit the Bar More Than Once a Month (No child passenger, No farming, fishing, or forestry occupation)\")\n",
    "plt.savefig('images/bar_coupons_no_child_no_farm.png')\n"
   ],
   "outputs": [
    {
     "name": "stdout",
     "output_type": "stream",
     "text": [
      "Bar coupons acceptance rate for those who visit the bar more than once a month and do not have a child passenger and do not have an occupation in farming, fishing, or forestry:  0.7094339622641509\n",
      "Bar coupons acceptance rate for those who visit the bar more than once a month and have a child passenger  0.38095238095238093\n"
     ]
    },
    {
     "data": {
      "text/plain": [
       "<Figure size 640x480 with 1 Axes>"
      ],
      "image/png": "[encoded data removed]"
     },
     "metadata": {},
     "output_type": "display_data"
    }
   ],
   "execution_count": 128
  },
  {
   "cell_type": "markdown",
   "metadata": {},
   "source": [
    "6. Compare the acceptance rates between those drivers who:\n",
    "\n",
    "- go to bars more than once a month, had passengers that were not a kid, and were not widowed *OR*\n",
    "- go to bars more than once a month and are under the age of 30 *OR*\n",
    "- go to cheap restaurants more than 4 times a month and income is less than 50K. \n",
    "\n"
   ]
  },
  {
   "cell_type": "code",
   "metadata": {
    "ExecuteTime": {
     "end_time": "2024-05-07T23:08:33.613768Z",
     "start_time": "2024-05-07T23:08:33.464266Z"
    }
   },
   "source": [
    "df_not_widowed = df_bar.query('Bar in @bar_more_than_1 and passenger not in @passenger_kid and maritalStatus not in [\"Widowed\"]')\n",
    "print(\"Bar coupons acceptance rate for those who visit the bar more than once a month, do not have a child passenger, and are not widowed: \", df_not_widowed[df_not_widowed['Y'] == 1].size / df_not_widowed.size)\n",
    "\n",
    "df_under_30 = df_bar.query('Bar in @bar_more_than_1 and age <=30')\n",
    "print(\"Bar coupons acceptance rate for those who visit the bar more than once a month and are under 30: \", df_under_30[df_under_30['Y'] == 1].size / df_under_30.size)\n",
    "\n",
    "df_cheap_restaurants = df_bar.query('Bar in @bar_more_than_1 and RestaurantLessThan20 in [\"4~8\", \"gt8\"] and income in [\"Less than $12500\", \"$12500 - $24999\", \"$25000 - $37499\", \"$37500 - $49999\"]')\n",
    "print(\"Bar coupons acceptance rate for those who visit the bar more than once a month, go to cheap restaurants more than 4 times a month, and have an income less than 50K: \", df_cheap_restaurants[df_cheap_restaurants['Y'] == 1].size / df_cheap_restaurants.size)\n",
    "sns.countplot(df_cheap_restaurants, x=\"Bar\", hue=\"Y\", palette='bright', alpha = 1, order=['1~3', '4~8', 'gt8']).set_title('Bar Coupons Acceptance Rate: Visit the Bar > 1 a month, Cheap Restaurants 4+, Income < 50K')\n",
    "plt.savefig('images/bar_coupons_cheap_restaurants.png')\n"
   ],
   "outputs": [
    {
     "name": "stdout",
     "output_type": "stream",
     "text": [
      "Bar coupons acceptance rate for those who visit the bar more than once a month, do not have a child passenger, and are not widowed:  0.7094339622641509\n",
      "Bar coupons acceptance rate for those who visit the bar more than once a month and are under 30:  0.7195121951219512\n",
      "Bar coupons acceptance rate for those who visit the bar more than once a month, go to cheap restaurants more than 4 times a month, and have an income less than 50K:  0.7716535433070866\n"
     ]
    },
    {
     "data": {
      "text/plain": [
       "<Figure size 640x480 with 1 Axes>"
      ],
      "image/png": "[encoded data removed]"
     },
     "metadata": {},
     "output_type": "display_data"
    }
   ],
   "execution_count": 129
  },
  {
   "cell_type": "markdown",
   "metadata": {},
   "source": [
    "7.  Based on these observations, what do you hypothesize about drivers who accepted the bar coupons?\n",
    "\n",
    "- After drawing a few bar plots along with some box plots along with the actual numbers, it's clear that the acceptance rate for bar coupons is higher for those who go to bars more than once a month. Other factors that increase the likelihood include being under 30, not being widowed, and going to cheap restaurants more than 4 times a month with an income less than 50K. Also not having children in the vehicles is also a contributing factor.  "
   ]
  },
  {
   "metadata": {
    "ExecuteTime": {
     "end_time": "2024-05-07T23:08:33.779191Z",
     "start_time": "2024-05-07T23:08:33.614918Z"
    }
   },
   "cell_type": "code",
   "source": [
    "sns.countplot(df_bar, x=\"Bar\", hue=\"Y\", palette='bright', order=['never', 'less1', '1~3', '4~8', 'gt8']).set_title('Bar Coupons Acceptance Rate for Those Who Visit the Bar More Than Once a Month')\n",
    "plt.savefig('images/bar_coupons_more_than_1.png')"
   ],
   "outputs": [
    {
     "data": {
      "text/plain": [
       "<Figure size 640x480 with 1 Axes>"
      ],
      "image/png": "[encoded data removed]"
     },
     "metadata": {},
     "output_type": "display_data"
    }
   ],
   "execution_count": 130
  },
  {
   "metadata": {
    "ExecuteTime": {
     "end_time": "2024-05-07T23:08:33.900778Z",
     "start_time": "2024-05-07T23:08:33.780982Z"
    }
   },
   "cell_type": "code",
   "source": [
    "sns.violinplot(df_bar, x=\"age\", hue=\"Y\", palette='bright').set_title('Bar Coupons Acceptance Rate for Age Groups')\n",
    "plt.savefig('images/bar_coupons_age.png')"
   ],
   "outputs": [
    {
     "data": {
      "text/plain": [
       "<Figure size 640x480 with 1 Axes>"
      ],
      "image/png": "[encoded data removed]"
     },
     "metadata": {},
     "output_type": "display_data"
    }
   ],
   "execution_count": 131
  },
  {
   "metadata": {
    "ExecuteTime": {
     "end_time": "2024-05-07T23:08:34.016338Z",
     "start_time": "2024-05-07T23:08:33.901304Z"
    }
   },
   "cell_type": "code",
   "source": [
    "sns.countplot(df_bar, x=\"age\", hue=\"Y\", palette='bright').set_title('Bar Coupons Acceptance Rate for Age Groups')\n",
    "plt.savefig('images/bar_coupons_age_count.png')\n"
   ],
   "outputs": [
    {
     "data": {
      "text/plain": [
       "<Figure size 640x480 with 1 Axes>"
      ],
      "image/png": "[encoded data removed]"
     },
     "metadata": {},
     "output_type": "display_data"
    }
   ],
   "execution_count": 132
  },
  {
   "metadata": {
    "ExecuteTime": {
     "end_time": "2024-05-07T23:08:34.020948Z",
     "start_time": "2024-05-07T23:08:34.017157Z"
    }
   },
   "cell_type": "code",
   "source": [
    "df_above_30 = df_bar.query('Bar in @bar_more_than_1 and age > 30')\n",
    "print(\"Bar coupons acceptance rate for those who visit the bar more than once a month and are over 30: \", df_above_30[df_above_30['Y'] == 1].size / df_above_30.size)"
   ],
   "outputs": [
    {
     "name": "stdout",
     "output_type": "stream",
     "text": [
      "Bar coupons acceptance rate for those who visit the bar more than once a month and are over 30:  0.639344262295082\n"
     ]
    }
   ],
   "execution_count": 133
  },
  {
   "cell_type": "markdown",
   "metadata": {},
   "source": [
    "### Independent Investigation\n",
    "\n",
    "Using the bar coupon example as motivation, you are to explore one of the other coupon groups and try to determine the characteristics of passengers who accept the coupons.  "
   ]
  },
  {
   "metadata": {},
   "cell_type": "markdown",
   "source": "### Let's now investigate the carry away coupons and what influences the acceptance rate of those coupons.\n"
  },
  {
   "cell_type": "code",
   "metadata": {
    "ExecuteTime": {
     "end_time": "2024-05-07T23:08:34.026480Z",
     "start_time": "2024-05-07T23:08:34.021658Z"
    }
   },
   "source": [
    "# Get the overall acceptance rate of Carry Away coupons\n",
    "df_carry_away = df[df['coupon'] == 'Carry Away']\n",
    "print(\"Carry Away coupons overall acceptance rate: \", df_carry_away[df_carry_away['Y'] == 1].size / df_carry_away.size)"
   ],
   "outputs": [
    {
     "name": "stdout",
     "output_type": "stream",
     "text": [
      "Carry Away coupons overall acceptance rate:  0.737719298245614\n"
     ]
    }
   ],
   "execution_count": 134
  },
  {
   "cell_type": "code",
   "metadata": {
    "ExecuteTime": {
     "end_time": "2024-05-07T23:08:34.126410Z",
     "start_time": "2024-05-07T23:08:34.027411Z"
    }
   },
   "source": [
    "# check if temperature has a correlation with acceptance\n",
    "sns.countplot(df_carry_away, x='temperature', hue='Y', palette='bright', alpha = 1).set_title('Temperature And Carry Away Coupon Acceptance')\n",
    "plt.savefig('images/temperature_carry_away.png')"
   ],
   "outputs": [
    {
     "data": {
      "text/plain": [
       "<Figure size 640x480 with 1 Axes>"
      ],
      "image/png": "[encoded data removed]"
     },
     "metadata": {},
     "output_type": "display_data"
    }
   ],
   "execution_count": 135
  },
  {
   "metadata": {
    "ExecuteTime": {
     "end_time": "2024-05-07T23:08:34.132877Z",
     "start_time": "2024-05-07T23:08:34.127034Z"
    }
   },
   "cell_type": "code",
   "source": [
    "# check acceptance rate of folks who go to Carry Away more than once a month\n",
    "df_carry_away_more_than_1 = df_carry_away.query('CarryAway in [\"1~3\", \"4~8\", \"gt8\"]')\n",
    "print(\"Carry Away coupons acceptance rate for those who go to Carry Away more than once a month: \", df_carry_away_more_than_1[df_carry_away_more_than_1['Y'] == 1].size / df_carry_away_more_than_1.size)\n",
    "\n",
    "# check acceptance rate of folks who go to Carry Away less than once a month\n",
    "df_carry_away_less_than_1 = df_carry_away.query('CarryAway in [\"never\", \"less1\"]')\n",
    "print(\"Carry Away coupons acceptance rate for those who go to Carry Away less than once a month: \", df_carry_away_less_than_1[df_carry_away_less_than_1['Y'] == 1].size / df_carry_away_less_than_1.size)"
   ],
   "outputs": [
    {
     "name": "stdout",
     "output_type": "stream",
     "text": [
      "Carry Away coupons acceptance rate for those who go to Carry Away more than once a month:  0.7475117862755369\n",
      "Carry Away coupons acceptance rate for those who go to Carry Away less than once a month:  0.6873315363881402\n"
     ]
    }
   ],
   "execution_count": 136
  },
  {
   "cell_type": "code",
   "metadata": {
    "ExecuteTime": {
     "end_time": "2024-05-07T23:08:34.248304Z",
     "start_time": "2024-05-07T23:08:34.133948Z"
    }
   },
   "source": [
    "# plot the acceptance rate of each age group\n",
    "sns.countplot(df_carry_away, x='age', hue='Y', palette='bright', alpha = 1).set_title('Carry Away Coupons Acceptance Rate for Age Groups')\n",
    "plt.savefig('images/carry_away_age.png')"
   ],
   "outputs": [
    {
     "data": {
      "text/plain": [
       "<Figure size 640x480 with 1 Axes>"
      ],
      "image/png": "[encoded data removed]"
     },
     "metadata": {},
     "output_type": "display_data"
    }
   ],
   "execution_count": 137
  },
  {
   "metadata": {
    "ExecuteTime": {
     "end_time": "2024-05-07T23:08:34.258360Z",
     "start_time": "2024-05-07T23:08:34.249079Z"
    }
   },
   "cell_type": "code",
   "source": [
    "# print the acceptance rate\n",
    "print(\"Carry Away coupons acceptance rate for those who are 21-31 years old or older than 50: \", df_carry_away.query('age >= 21 and age <=31 or age == 51')[df_carry_away['Y'] == 1].size / df_carry_away.query('age >= 21 and age <=31 or age == 51').size)\n",
    "print(\"Carry Away coupons acceptance rate for others: \", df_carry_away.query('age > 31 and age < 51 or age == 20')[df_carry_away['Y'] == 1].size / df_carry_away.query('age > 31 and age < 51 or age == 20').size)"
   ],
   "outputs": [
    {
     "name": "stdout",
     "output_type": "stream",
     "text": [
      "Carry Away coupons acceptance rate for those who are 21-31 years old or older than 50:  0.7400744416873449\n",
      "Carry Away coupons acceptance rate for others:  0.7320359281437125\n"
     ]
    },
    {
     "name": "stderr",
     "output_type": "stream",
     "text": [
      "/var/folders/n8/rlxtg7m96177__xcbf33_dq40000gn/T/ipykernel_1314/1371508692.py:2: UserWarning: Boolean Series key will be reindexed to match DataFrame index.\n",
      "  print(\"Carry Away coupons acceptance rate for those who are 21-31 years old or older than 50: \", df_carry_away.query('age >= 21 and age <=31 or age == 51')[df_carry_away['Y'] == 1].size / df_carry_away.query('age >= 21 and age <=31 or age == 51').size)\n",
      "/var/folders/n8/rlxtg7m96177__xcbf33_dq40000gn/T/ipykernel_1314/1371508692.py:3: UserWarning: Boolean Series key will be reindexed to match DataFrame index.\n",
      "  print(\"Carry Away coupons acceptance rate for others: \", df_carry_away.query('age > 31 and age < 51 or age == 20')[df_carry_away['Y'] == 1].size / df_carry_away.query('age > 31 and age < 51 or age == 20').size)\n"
     ]
    }
   ],
   "execution_count": 138
  },
  {
   "metadata": {},
   "cell_type": "markdown",
   "source": "    It appears that the acceptance rate of carry away coupons is higher for those who are 21-31 years old but also for people older than 50."
  },
  {
   "cell_type": "code",
   "metadata": {
    "ExecuteTime": {
     "end_time": "2024-05-07T23:08:34.428864Z",
     "start_time": "2024-05-07T23:08:34.259112Z"
    }
   },
   "source": [
    "# plot only the acceptance rate of those who have a kid as a passenger\n",
    "df_carry_away_with_kids = df_carry_away.query('passenger in [\"Kid(s)\"]')\n",
    "sns.countplot(df_carry_away_with_kids, x='age', hue='Y', palette='bright', alpha = 1).set_title('Carry Away Coupons Acceptance Rate for Those Who Have a Kid as a Passenger')\n",
    "plt.savefig('images/carry_away_kids.png')"
   ],
   "outputs": [
    {
     "data": {
      "text/plain": [
       "<Figure size 640x480 with 1 Axes>"
      ],
      "image/png": "[encoded data removed]"
     },
     "metadata": {},
     "output_type": "display_data"
    }
   ],
   "execution_count": 139
  },
  {
   "metadata": {
    "ExecuteTime": {
     "end_time": "2024-05-07T23:08:34.434518Z",
     "start_time": "2024-05-07T23:08:34.429589Z"
    }
   },
   "cell_type": "code",
   "source": [
    "# print the acceptance rate\n",
    "print(\"Carry Away coupons acceptance rate for those who do have a child passenger: \", df_carry_away_with_kids[df_carry_away_with_kids['Y'] == 1].size / df_carry_away_with_kids.size)\n",
    "df_carry_away_without_kids = df_carry_away.query('passenger not in [\"Kid(s)\"]')\n",
    "print(\"Carry Away coupons acceptance rate for those who do not have a child passenger: \", df_carry_away_without_kids[df_carry_away_without_kids['Y'] == 1].size / df_carry_away_without_kids.size)"
   ],
   "outputs": [
    {
     "name": "stdout",
     "output_type": "stream",
     "text": [
      "Carry Away coupons acceptance rate for those who do have a child passenger:  0.6971830985915493\n",
      "Carry Away coupons acceptance rate for those who do not have a child passenger:  0.7404115996258185\n"
     ]
    }
   ],
   "execution_count": 140
  },
  {
   "metadata": {},
   "cell_type": "markdown",
   "source": "Having a child passenger seems to boost the acceptance rate among people who are older than 31 but overall does not seem to increase the acceptance rate over not having a kid as a passenger."
  },
  {
   "cell_type": "code",
   "metadata": {
    "ExecuteTime": {
     "end_time": "2024-05-07T23:08:34.556297Z",
     "start_time": "2024-05-07T23:08:34.438001Z"
    }
   },
   "source": [
    "# plot only the acceptance of those who do not have a kid as a passenger\n",
    "df_carry_away_without_kids = df_carry_away.query('passenger not in [\"Kid(s)\"]')\n",
    "sns.countplot(df_carry_away_without_kids, x='age', hue='Y', palette='bright', alpha = 1).set_title('Carry Away Coupons Acceptance Rate for Those Who Do Not Have a Kid as a Passenger')\n",
    "plt.savefig('images/carry_away_no_kids.png')\n"
   ],
   "outputs": [
    {
     "data": {
      "text/plain": [
       "<Figure size 640x480 with 1 Axes>"
      ],
      "image/png": "[encoded data removed]"
     },
     "metadata": {},
     "output_type": "display_data"
    }
   ],
   "execution_count": 141
  },
  {
   "metadata": {},
   "cell_type": "markdown",
   "source": "This is to confirm that without kids, the acceptance rate is higher for those who are 21-31 years old but also for people older than 50."
  },
  {
   "metadata": {
    "ExecuteTime": {
     "end_time": "2024-05-07T23:08:34.661839Z",
     "start_time": "2024-05-07T23:08:34.557063Z"
    }
   },
   "cell_type": "code",
   "source": [
    "# plot the acceptance rate of each marital status\n",
    "sns.countplot(df_carry_away, x='maritalStatus', hue='Y', palette='bright', alpha = 1).set_title('Carry Away Coupons Acceptance Rate for Marital Status')\n",
    "plt.savefig('images/carry_away_marital.png')"
   ],
   "outputs": [
    {
     "data": {
      "text/plain": [
       "<Figure size 640x480 with 1 Axes>"
      ],
      "image/png": "[encoded data removed]"
     },
     "metadata": {},
     "output_type": "display_data"
    }
   ],
   "execution_count": 142
  },
  {
   "metadata": {
    "ExecuteTime": {
     "end_time": "2024-05-07T23:08:34.798745Z",
     "start_time": "2024-05-07T23:08:34.662938Z"
    }
   },
   "cell_type": "code",
   "source": [
    "# plot by income\n",
    "plt.tick_params(axis='x', rotation=45)\n",
    "plt.subplots_adjust(bottom=.25)\n",
    "# order the x axis by income\n",
    "\n",
    "sns.countplot(df_carry_away, x='income', hue='Y', palette='bright', alpha = 1, order=['Less than $12500','$12500 - $24999','$25000 - $37499', '$37500 - $49999', '$50000 - $62499', '$62500 - $74999', '$75000 - $87499', '$87500 - $99999', '$100000 or More']).set_title('Carry Away Coupons Acceptance Rate for Income')\n",
    "plt.savefig('images/carry_away_income.png')"
   ],
   "outputs": [
    {
     "data": {
      "text/plain": [
       "<Figure size 640x480 with 1 Axes>"
      ],
      "image/png": "[encoded data removed]"
     },
     "metadata": {},
     "output_type": "display_data"
    }
   ],
   "execution_count": 143
  },
  {
   "metadata": {
    "ExecuteTime": {
     "end_time": "2024-05-07T23:08:34.805436Z",
     "start_time": "2024-05-07T23:08:34.799655Z"
    }
   },
   "cell_type": "code",
   "source": [
    "# print the acceptance rate for income > 50K\n",
    "print(\"Carry Away coupons acceptance rate for those who have an income greater than 50K: \", df_carry_away.query('income in [\"$50000 - $62499\", \"$62500 - $74999\", \"$75000 - $87499\", \"$87500 - $99999\", \"Over $100000\"]')[df_carry_away['Y'] == 1].size / df_carry_away.query('income in [\"$50000 - $62499\", \"$62500 - $74999\", \"$75000 - $87499\", \"$87500 - $99999\", \"Over $100000\"]').size)"
   ],
   "outputs": [
    {
     "name": "stdout",
     "output_type": "stream",
     "text": [
      "Carry Away coupons acceptance rate for those who have an income greater than 50K:  0.7294429708222812\n"
     ]
    },
    {
     "name": "stderr",
     "output_type": "stream",
     "text": [
      "/var/folders/n8/rlxtg7m96177__xcbf33_dq40000gn/T/ipykernel_1314/3727267729.py:2: UserWarning: Boolean Series key will be reindexed to match DataFrame index.\n",
      "  print(\"Carry Away coupons acceptance rate for those who have an income greater than 50K: \", df_carry_away.query('income in [\"$50000 - $62499\", \"$62500 - $74999\", \"$75000 - $87499\", \"$87500 - $99999\", \"Over $100000\"]')[df_carry_away['Y'] == 1].size / df_carry_away.query('income in [\"$50000 - $62499\", \"$62500 - $74999\", \"$75000 - $87499\", \"$87500 - $99999\", \"Over $100000\"]').size)\n"
     ]
    }
   ],
   "execution_count": 144
  },
  {
   "metadata": {
    "ExecuteTime": {
     "end_time": "2024-05-07T23:08:34.814612Z",
     "start_time": "2024-05-07T23:08:34.806592Z"
    }
   },
   "cell_type": "code",
   "source": [
    "# print the acceptance rate for income < 50K\n",
    "print(\"Carry Away coupons acceptance rate for those who have an income less than 50K: \", df_carry_away.query('income in [\"Less than $12500\", \"$12500 - $24999\", \"$25000 - $37499\", \"$37500 - $49999\"]')[df_carry_away['Y'] == 1].size / df_carry_away.query('income in [\"Less than $12500\", \"$12500 - $24999\", \"$25000 - $37499\", \"$37500 - $49999\"]').size)"
   ],
   "outputs": [
    {
     "name": "stdout",
     "output_type": "stream",
     "text": [
      "Carry Away coupons acceptance rate for those who have an income less than 50K:  0.7530966143682907\n"
     ]
    },
    {
     "name": "stderr",
     "output_type": "stream",
     "text": [
      "/var/folders/n8/rlxtg7m96177__xcbf33_dq40000gn/T/ipykernel_1314/2449017618.py:2: UserWarning: Boolean Series key will be reindexed to match DataFrame index.\n",
      "  print(\"Carry Away coupons acceptance rate for those who have an income less than 50K: \", df_carry_away.query('income in [\"Less than $12500\", \"$12500 - $24999\", \"$25000 - $37499\", \"$37500 - $49999\"]')[df_carry_away['Y'] == 1].size / df_carry_away.query('income in [\"Less than $12500\", \"$12500 - $24999\", \"$25000 - $37499\", \"$37500 - $49999\"]').size)\n"
     ]
    }
   ],
   "execution_count": 145
  },
  {
   "metadata": {},
   "cell_type": "markdown",
   "source": [
    "### Conclusion\n",
    "\n",
    "Based on the data, the acceptance rate for those with an income lower than 50k is higher than those with an income greater than 50k. This is based on the following stats: \n",
    "- Bar coupons acceptance rate for those who visit the bar more than once a month, go to cheap restaurants more than 4 times a month, and have an income less than 50K:  0.7716535433070866\n",
    "- Carry Away coupons acceptance rate for those who have an income less than 50K:  0.7530966143682907\n",
    "- Carry Away coupons acceptance rate for those who have an income greater than 50K:  0.7294429708222812\n",
    "\n",
    "\n",
    "Having a kid as a passenger reduces the acceptance rate. Based on the following stats:\n",
    "- Bar coupons acceptance rate for those who visit the bar more than once a month and do not have a child passenger and do not have an occupation in farming, fishing, or forestry:  0.7094339622641509\n",
    "- Bar coupons acceptance rate for those who visit the bar more than once a month and have a child passenger  0.38095238095238093\n",
    "- Carry Away coupons acceptance rate for those who do have a child passenger:  0.6971830985915493\n",
    "- Carry Away coupons acceptance rate for those who do not have a child passenger:  0.7404115996258185\n",
    "\n",
    "Stats about age show that it appears younger folks are more accepting of coupons:\n",
    "- Carry Away coupons acceptance rate for those who are 21-31 years old or older than 50:  0.7400744416873449\n",
    "- Carry Away coupons acceptance rate for others:  0.7320359281437125\n",
    "- Bar coupons acceptance rate for those who visit the bar more than once a month and are over 30:  0.639344262295082\n",
    "- Bar coupons acceptance rate for those who visit the bar more than once a month and are under 30:  0.7195121951219512\n",
    "\n",
    "Overall, those who frequent the places more than 1 once a month are more likely to accept a coupon for those places. Based on the following stats:\n",
    "- Carry Away coupons acceptance rate for those who go to Carry Away more than once a month:  0.7475117862755369\n",
    "- Carry Away coupons acceptance rate for those who go to Carry Away less than once a month:  0.6873315363881402\n",
    "\n",
    "So to summarize, having a kid as a passenger seems to negatively impact acceptance rate. Having a lower income seems to increase the acceptance rate and younger folks are more likely to accept a coupon."
   ]
  }
 ],
 "metadata": {
  "kernelspec": {
   "display_name": "Python 3",
   "language": "python",
   "name": "python3"
  },
  "language_info": {
   "codemirror_mode": {
    "name": "ipython",
    "version": 3
   },
   "file_extension": ".py",
   "mimetype": "text/x-python",
   "name": "python",
   "nbconvert_exporter": "python",
   "pygments_lexer": "ipython3",
   "version": "3.8.8"
  },
  "widgets": {
   "application/vnd.jupyter.widget-state+json": {
    "state": {},
    "version_major": 2,
    "version_minor": 0
   }
  }
 },
 "nbformat": 4,
 "nbformat_minor": 4
}
